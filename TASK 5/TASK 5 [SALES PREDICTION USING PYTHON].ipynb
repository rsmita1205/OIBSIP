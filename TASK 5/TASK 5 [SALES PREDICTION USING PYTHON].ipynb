{
 "cells": [
  {
   "cell_type": "markdown",
   "id": "6e04ccea",
   "metadata": {},
   "source": [
    "#### Import necessary libraries\n"
   ]
  },
  {
   "cell_type": "code",
   "execution_count": 1,
   "id": "1a766d0b",
   "metadata": {},
   "outputs": [],
   "source": [
    "import pandas as pd\n",
    "import numpy as np\n",
    "import matplotlib.pyplot as plt\n",
    "import seaborn as sns\n",
    "from sklearn.model_selection import train_test_split\n",
    "from sklearn.linear_model import LinearRegression\n",
    "from sklearn.metrics import mean_squared_error, r2_score\n"
   ]
  },
  {
   "cell_type": "markdown",
   "id": "e2a63089",
   "metadata": {},
   "source": [
    "#### Load and explore the dataset"
   ]
  },
  {
   "cell_type": "code",
   "execution_count": 2,
   "id": "a29cc292",
   "metadata": {},
   "outputs": [],
   "source": [
    "data = pd.read_csv(r'F:\\INTERNSHIPS\\OASIS INFOBYTE\\TASK 5\\DATASET FOR (TASK 5)\\Advertising.csv')"
   ]
  },
  {
   "cell_type": "code",
   "execution_count": 3,
   "id": "ab794cdd",
   "metadata": {},
   "outputs": [
    {
     "data": {
      "text/html": [
       "<div>\n",
       "<style scoped>\n",
       "    .dataframe tbody tr th:only-of-type {\n",
       "        vertical-align: middle;\n",
       "    }\n",
       "\n",
       "    .dataframe tbody tr th {\n",
       "        vertical-align: top;\n",
       "    }\n",
       "\n",
       "    .dataframe thead th {\n",
       "        text-align: right;\n",
       "    }\n",
       "</style>\n",
       "<table border=\"1\" class=\"dataframe\">\n",
       "  <thead>\n",
       "    <tr style=\"text-align: right;\">\n",
       "      <th></th>\n",
       "      <th>Unnamed: 0</th>\n",
       "      <th>TV</th>\n",
       "      <th>Radio</th>\n",
       "      <th>Newspaper</th>\n",
       "      <th>Sales</th>\n",
       "    </tr>\n",
       "  </thead>\n",
       "  <tbody>\n",
       "    <tr>\n",
       "      <th>0</th>\n",
       "      <td>1</td>\n",
       "      <td>230.1</td>\n",
       "      <td>37.8</td>\n",
       "      <td>69.2</td>\n",
       "      <td>22.1</td>\n",
       "    </tr>\n",
       "    <tr>\n",
       "      <th>1</th>\n",
       "      <td>2</td>\n",
       "      <td>44.5</td>\n",
       "      <td>39.3</td>\n",
       "      <td>45.1</td>\n",
       "      <td>10.4</td>\n",
       "    </tr>\n",
       "    <tr>\n",
       "      <th>2</th>\n",
       "      <td>3</td>\n",
       "      <td>17.2</td>\n",
       "      <td>45.9</td>\n",
       "      <td>69.3</td>\n",
       "      <td>9.3</td>\n",
       "    </tr>\n",
       "    <tr>\n",
       "      <th>3</th>\n",
       "      <td>4</td>\n",
       "      <td>151.5</td>\n",
       "      <td>41.3</td>\n",
       "      <td>58.5</td>\n",
       "      <td>18.5</td>\n",
       "    </tr>\n",
       "    <tr>\n",
       "      <th>4</th>\n",
       "      <td>5</td>\n",
       "      <td>180.8</td>\n",
       "      <td>10.8</td>\n",
       "      <td>58.4</td>\n",
       "      <td>12.9</td>\n",
       "    </tr>\n",
       "  </tbody>\n",
       "</table>\n",
       "</div>"
      ],
      "text/plain": [
       "   Unnamed: 0     TV  Radio  Newspaper  Sales\n",
       "0           1  230.1   37.8       69.2   22.1\n",
       "1           2   44.5   39.3       45.1   10.4\n",
       "2           3   17.2   45.9       69.3    9.3\n",
       "3           4  151.5   41.3       58.5   18.5\n",
       "4           5  180.8   10.8       58.4   12.9"
      ]
     },
     "execution_count": 3,
     "metadata": {},
     "output_type": "execute_result"
    }
   ],
   "source": [
    "# first five rows of our dataset\n",
    "data.head()"
   ]
  },
  {
   "cell_type": "code",
   "execution_count": 4,
   "id": "4002af48",
   "metadata": {},
   "outputs": [
    {
     "data": {
      "text/html": [
       "<div>\n",
       "<style scoped>\n",
       "    .dataframe tbody tr th:only-of-type {\n",
       "        vertical-align: middle;\n",
       "    }\n",
       "\n",
       "    .dataframe tbody tr th {\n",
       "        vertical-align: top;\n",
       "    }\n",
       "\n",
       "    .dataframe thead th {\n",
       "        text-align: right;\n",
       "    }\n",
       "</style>\n",
       "<table border=\"1\" class=\"dataframe\">\n",
       "  <thead>\n",
       "    <tr style=\"text-align: right;\">\n",
       "      <th></th>\n",
       "      <th>Unnamed: 0</th>\n",
       "      <th>TV</th>\n",
       "      <th>Radio</th>\n",
       "      <th>Newspaper</th>\n",
       "      <th>Sales</th>\n",
       "    </tr>\n",
       "  </thead>\n",
       "  <tbody>\n",
       "    <tr>\n",
       "      <th>195</th>\n",
       "      <td>196</td>\n",
       "      <td>38.2</td>\n",
       "      <td>3.7</td>\n",
       "      <td>13.8</td>\n",
       "      <td>7.6</td>\n",
       "    </tr>\n",
       "    <tr>\n",
       "      <th>196</th>\n",
       "      <td>197</td>\n",
       "      <td>94.2</td>\n",
       "      <td>4.9</td>\n",
       "      <td>8.1</td>\n",
       "      <td>9.7</td>\n",
       "    </tr>\n",
       "    <tr>\n",
       "      <th>197</th>\n",
       "      <td>198</td>\n",
       "      <td>177.0</td>\n",
       "      <td>9.3</td>\n",
       "      <td>6.4</td>\n",
       "      <td>12.8</td>\n",
       "    </tr>\n",
       "    <tr>\n",
       "      <th>198</th>\n",
       "      <td>199</td>\n",
       "      <td>283.6</td>\n",
       "      <td>42.0</td>\n",
       "      <td>66.2</td>\n",
       "      <td>25.5</td>\n",
       "    </tr>\n",
       "    <tr>\n",
       "      <th>199</th>\n",
       "      <td>200</td>\n",
       "      <td>232.1</td>\n",
       "      <td>8.6</td>\n",
       "      <td>8.7</td>\n",
       "      <td>13.4</td>\n",
       "    </tr>\n",
       "  </tbody>\n",
       "</table>\n",
       "</div>"
      ],
      "text/plain": [
       "     Unnamed: 0     TV  Radio  Newspaper  Sales\n",
       "195         196   38.2    3.7       13.8    7.6\n",
       "196         197   94.2    4.9        8.1    9.7\n",
       "197         198  177.0    9.3        6.4   12.8\n",
       "198         199  283.6   42.0       66.2   25.5\n",
       "199         200  232.1    8.6        8.7   13.4"
      ]
     },
     "execution_count": 4,
     "metadata": {},
     "output_type": "execute_result"
    }
   ],
   "source": [
    "# last five rows of our dataset\n",
    "data.tail()"
   ]
  },
  {
   "cell_type": "code",
   "execution_count": 5,
   "id": "147cd8ed",
   "metadata": {},
   "outputs": [
    {
     "data": {
      "text/plain": [
       "(200, 5)"
      ]
     },
     "execution_count": 5,
     "metadata": {},
     "output_type": "execute_result"
    }
   ],
   "source": [
    "# Number of rows and columns f the dataset\n",
    "data.shape"
   ]
  },
  {
   "cell_type": "markdown",
   "id": "0f1607c6",
   "metadata": {},
   "source": [
    "- Our dataset has 200 rows and 5 columns."
   ]
  },
  {
   "cell_type": "code",
   "execution_count": 6,
   "id": "858be4ff",
   "metadata": {
    "scrolled": true
   },
   "outputs": [
    {
     "data": {
      "text/plain": [
       "Index(['Unnamed: 0', 'TV', 'Radio', 'Newspaper', 'Sales'], dtype='object')"
      ]
     },
     "execution_count": 6,
     "metadata": {},
     "output_type": "execute_result"
    }
   ],
   "source": [
    "# Column names of the dataset\n",
    "data.columns"
   ]
  },
  {
   "cell_type": "code",
   "execution_count": 7,
   "id": "820c562e",
   "metadata": {},
   "outputs": [
    {
     "name": "stdout",
     "output_type": "stream",
     "text": [
      "__________________________________________________\n",
      "INFORMATION OF THE DATASET :\n",
      "__________________________________________________\n",
      "<class 'pandas.core.frame.DataFrame'>\n",
      "RangeIndex: 200 entries, 0 to 199\n",
      "Data columns (total 5 columns):\n",
      " #   Column      Non-Null Count  Dtype  \n",
      "---  ------      --------------  -----  \n",
      " 0   Unnamed: 0  200 non-null    int64  \n",
      " 1   TV          200 non-null    float64\n",
      " 2   Radio       200 non-null    float64\n",
      " 3   Newspaper   200 non-null    float64\n",
      " 4   Sales       200 non-null    float64\n",
      "dtypes: float64(4), int64(1)\n",
      "memory usage: 7.9 KB\n",
      "__________________________________________________\n"
     ]
    }
   ],
   "source": [
    "# Information of the dataset\n",
    "print(\"_\"*50)\n",
    "print(\"INFORMATION OF THE DATASET :\")\n",
    "print(\"_\"*50)\n",
    "data.info()\n",
    "print(\"_\"*50)"
   ]
  },
  {
   "cell_type": "markdown",
   "id": "51ca722d",
   "metadata": {},
   "source": [
    "#### Checking for null values"
   ]
  },
  {
   "cell_type": "code",
   "execution_count": 8,
   "id": "59188a22",
   "metadata": {},
   "outputs": [
    {
     "data": {
      "text/plain": [
       "Unnamed: 0    0\n",
       "TV            0\n",
       "Radio         0\n",
       "Newspaper     0\n",
       "Sales         0\n",
       "dtype: int64"
      ]
     },
     "execution_count": 8,
     "metadata": {},
     "output_type": "execute_result"
    }
   ],
   "source": [
    "data.isnull().sum()"
   ]
  },
  {
   "cell_type": "markdown",
   "id": "aa54ed0d",
   "metadata": {},
   "source": [
    "- Our dataset do not contaion any null value."
   ]
  },
  {
   "cell_type": "markdown",
   "id": "19b28a67",
   "metadata": {},
   "source": [
    "#### Prepare the data"
   ]
  },
  {
   "cell_type": "code",
   "execution_count": 9,
   "id": "a047692b",
   "metadata": {},
   "outputs": [],
   "source": [
    "# Extracting features (X) and target variable (y)\n",
    "X = data[['TV']] \n",
    "y = data['Sales'] "
   ]
  },
  {
   "cell_type": "code",
   "execution_count": 10,
   "id": "53266cf0",
   "metadata": {},
   "outputs": [
    {
     "name": "stdout",
     "output_type": "stream",
     "text": [
      "_________________________\n",
      "\tX\n",
      "_________________________\n",
      "        TV\n",
      "0    230.1\n",
      "1     44.5\n",
      "2     17.2\n",
      "3    151.5\n",
      "4    180.8\n",
      "..     ...\n",
      "195   38.2\n",
      "196   94.2\n",
      "197  177.0\n",
      "198  283.6\n",
      "199  232.1\n",
      "\n",
      "[200 rows x 1 columns]\n",
      "_________________________\n"
     ]
    }
   ],
   "source": [
    "print(\"_\"*25)\n",
    "print(\"\\tX\")\n",
    "print(\"_\"*25)\n",
    "print(X)\n",
    "print(\"_\"*25)"
   ]
  },
  {
   "cell_type": "code",
   "execution_count": 11,
   "id": "4222563e",
   "metadata": {},
   "outputs": [
    {
     "name": "stdout",
     "output_type": "stream",
     "text": [
      "_________________________\n",
      "\ty\n",
      "_________________________\n",
      "0      22.1\n",
      "1      10.4\n",
      "2       9.3\n",
      "3      18.5\n",
      "4      12.9\n",
      "       ... \n",
      "195     7.6\n",
      "196     9.7\n",
      "197    12.8\n",
      "198    25.5\n",
      "199    13.4\n",
      "Name: Sales, Length: 200, dtype: float64\n",
      "_________________________\n"
     ]
    }
   ],
   "source": [
    "print(\"_\"*25)\n",
    "print(\"\\ty\")\n",
    "print(\"_\"*25)\n",
    "print(y)\n",
    "print(\"_\"*25)"
   ]
  },
  {
   "cell_type": "markdown",
   "id": "f8aa6592",
   "metadata": {},
   "source": [
    "#### Split the data into training and testing sets"
   ]
  },
  {
   "cell_type": "code",
   "execution_count": 12,
   "id": "2ee2a210",
   "metadata": {},
   "outputs": [],
   "source": [
    "# Split the data into training and testing sets\n",
    "X_train, X_test, y_train, y_test = train_test_split(X, y, test_size=0.2, random_state=42)"
   ]
  },
  {
   "cell_type": "code",
   "execution_count": 13,
   "id": "79b2f6f4",
   "metadata": {},
   "outputs": [
    {
     "name": "stdout",
     "output_type": "stream",
     "text": [
      "_________________________\n",
      "\tX_train\n",
      "_________________________\n",
      "        TV\n",
      "79   116.0\n",
      "197  177.0\n",
      "38    43.1\n",
      "24    62.3\n",
      "122  224.0\n",
      "..     ...\n",
      "106   25.0\n",
      "14   204.1\n",
      "92   217.7\n",
      "179  165.6\n",
      "102  280.2\n",
      "\n",
      "[160 rows x 1 columns]\n",
      "_________________________\n"
     ]
    }
   ],
   "source": [
    "print(\"_\"*25)\n",
    "print(\"\\tX_train\")\n",
    "print(\"_\"*25)\n",
    "print(X_train)\n",
    "print(\"_\"*25)"
   ]
  },
  {
   "cell_type": "code",
   "execution_count": 14,
   "id": "4024e29a",
   "metadata": {},
   "outputs": [
    {
     "name": "stdout",
     "output_type": "stream",
     "text": [
      "_________________________\n",
      "\tX_test\n",
      "_________________________\n",
      "        TV\n",
      "95   163.3\n",
      "15   195.4\n",
      "30   292.9\n",
      "158   11.7\n",
      "128  220.3\n",
      "115   75.1\n",
      "69   216.8\n",
      "170   50.0\n",
      "174  222.4\n",
      "45   175.1\n",
      "66    31.5\n",
      "182   56.2\n",
      "165  234.5\n",
      "78     5.4\n",
      "186  139.5\n",
      "177  170.2\n",
      "56     7.3\n",
      "152  197.6\n",
      "82    75.3\n",
      "68   237.4\n",
      "124  229.5\n",
      "16    67.8\n",
      "148   38.0\n",
      "93   250.9\n",
      "65    69.0\n",
      "60    53.5\n",
      "84   213.5\n",
      "67   139.3\n",
      "125   87.2\n",
      "132    8.4\n",
      "9    199.8\n",
      "18    69.2\n",
      "55   198.9\n",
      "75    16.9\n",
      "150  280.7\n",
      "104  238.2\n",
      "135   48.3\n",
      "137  273.7\n",
      "164  117.2\n",
      "76    27.5\n",
      "_________________________\n"
     ]
    }
   ],
   "source": [
    "print(\"_\"*25)\n",
    "print(\"\\tX_test\")\n",
    "print(\"_\"*25)\n",
    "print(X_test)\n",
    "print(\"_\"*25)"
   ]
  },
  {
   "cell_type": "code",
   "execution_count": 15,
   "id": "c6dde980",
   "metadata": {},
   "outputs": [
    {
     "name": "stdout",
     "output_type": "stream",
     "text": [
      "_________________________\n",
      "\ty_train\n",
      "_________________________\n",
      "79     11.0\n",
      "197    12.8\n",
      "38     10.1\n",
      "24      9.7\n",
      "122    11.6\n",
      "       ... \n",
      "106     7.2\n",
      "14     19.0\n",
      "92     19.4\n",
      "179    12.6\n",
      "102    14.8\n",
      "Name: Sales, Length: 160, dtype: float64\n",
      "_________________________\n"
     ]
    }
   ],
   "source": [
    "print(\"_\"*25)\n",
    "print(\"\\ty_train\")\n",
    "print(\"_\"*25)\n",
    "print(y_train)\n",
    "print(\"_\"*25)"
   ]
  },
  {
   "cell_type": "code",
   "execution_count": 16,
   "id": "7c5cf01b",
   "metadata": {},
   "outputs": [
    {
     "name": "stdout",
     "output_type": "stream",
     "text": [
      "_________________________\n",
      "\ty_test\n",
      "_________________________\n",
      "95     16.9\n",
      "15     22.4\n",
      "30     21.4\n",
      "158     7.3\n",
      "128    24.7\n",
      "115    12.6\n",
      "69     22.3\n",
      "170     8.4\n",
      "174    11.5\n",
      "45     14.9\n",
      "66      9.5\n",
      "182     8.7\n",
      "165    11.9\n",
      "78      5.3\n",
      "186    10.3\n",
      "177    11.7\n",
      "56      5.5\n",
      "152    16.6\n",
      "82     11.3\n",
      "68     18.9\n",
      "124    19.7\n",
      "16     12.5\n",
      "148    10.9\n",
      "93     22.2\n",
      "65      9.3\n",
      "60      8.1\n",
      "84     21.7\n",
      "67     13.4\n",
      "125    10.6\n",
      "132     5.7\n",
      "9      10.6\n",
      "18     11.3\n",
      "55     23.7\n",
      "75      8.7\n",
      "150    16.1\n",
      "104    20.7\n",
      "135    11.6\n",
      "137    20.8\n",
      "164    11.9\n",
      "76      6.9\n",
      "Name: Sales, dtype: float64\n",
      "_________________________\n"
     ]
    }
   ],
   "source": [
    "print(\"_\"*25)\n",
    "print(\"\\ty_test\")\n",
    "print(\"_\"*25)\n",
    "print(y_test)\n",
    "print(\"_\"*25)"
   ]
  },
  {
   "cell_type": "markdown",
   "id": "2ec2ed5e",
   "metadata": {},
   "source": [
    "#### Build and train the machine learning model"
   ]
  },
  {
   "cell_type": "code",
   "execution_count": 17,
   "id": "08a1e80d",
   "metadata": {},
   "outputs": [],
   "source": [
    "# Create a linear regression model\n",
    "model = LinearRegression()"
   ]
  },
  {
   "cell_type": "code",
   "execution_count": 18,
   "id": "e94caf81",
   "metadata": {},
   "outputs": [
    {
     "data": {
      "text/plain": [
       "LinearRegression()"
      ]
     },
     "execution_count": 18,
     "metadata": {},
     "output_type": "execute_result"
    }
   ],
   "source": [
    "# Train the model on the training data\n",
    "model.fit(X_train, y_train)"
   ]
  },
  {
   "cell_type": "markdown",
   "id": "3408edb0",
   "metadata": {},
   "source": [
    "#### Make predictions"
   ]
  },
  {
   "cell_type": "code",
   "execution_count": 19,
   "id": "0fd990db",
   "metadata": {},
   "outputs": [],
   "source": [
    "# Make predictions on the test data\n",
    "y_pred = model.predict(X_test)"
   ]
  },
  {
   "cell_type": "markdown",
   "id": "3849baa8",
   "metadata": {},
   "source": [
    "####  Evaluate the model"
   ]
  },
  {
   "cell_type": "code",
   "execution_count": 20,
   "id": "fec73651",
   "metadata": {},
   "outputs": [
    {
     "name": "stdout",
     "output_type": "stream",
     "text": [
      "____________________________________________________________\n",
      "\tMean Squared Error (MSE): 10.204654118800956\n",
      "____________________________________________________________\n"
     ]
    }
   ],
   "source": [
    "# Calculate the mean squared error\n",
    "mse = mean_squared_error(y_test, y_pred)\n",
    "print(\"_\"*60)\n",
    "print(f\"\\tMean Squared Error (MSE): {mse}\")\n",
    "print(\"_\"*60)"
   ]
  },
  {
   "cell_type": "code",
   "execution_count": 21,
   "id": "41c863a4",
   "metadata": {},
   "outputs": [
    {
     "name": "stdout",
     "output_type": "stream",
     "text": [
      "____________________________________________________________\n",
      "\tR-squared (R2) Score: 0.6766954295627077\n",
      "____________________________________________________________\n"
     ]
    }
   ],
   "source": [
    "# Calculate the R-squared (coefficient of determination) score\n",
    "r2 = r2_score(y_test, y_pred)\n",
    "print(\"_\"*60)\n",
    "print(f\"\\tR-squared (R2) Score: {r2}\")\n",
    "print(\"_\"*60)"
   ]
  },
  {
   "cell_type": "markdown",
   "id": "73d5e475",
   "metadata": {},
   "source": [
    "#### Visualize the results"
   ]
  },
  {
   "cell_type": "code",
   "execution_count": 22,
   "id": "837cfa68",
   "metadata": {},
   "outputs": [
    {
     "data": {
      "image/png": "[encoded data removed]",
      "text/plain": [
       "<Figure size 640x480 with 1 Axes>"
      ]
     },
     "metadata": {},
     "output_type": "display_data"
    }
   ],
   "source": [
    "# Scatter plot of actual vs. predicted sales\n",
    "plt.scatter(X_test, y_test, color='b', label='Actual Sales')\n",
    "plt.plot(X_test, y_pred, color='r', label='Predicted Sales')\n",
    "plt.xlabel('Advertising Expense',size=12)\n",
    "plt.ylabel('Sales',size=12)\n",
    "plt.legend()\n",
    "plt.title('Sales Prediction',size=16,fontweight=\"black\")\n",
    "plt.show()"
   ]
  },
  {
   "cell_type": "markdown",
   "id": "77b93e9c",
   "metadata": {},
   "source": [
    "#### Distribution Plots"
   ]
  },
  {
   "cell_type": "code",
   "execution_count": 23,
   "id": "90df069e",
   "metadata": {},
   "outputs": [
    {
     "data": {
      "image/png": "[encoded data removed]",
      "text/plain": [
       "<Figure size 640x480 with 1 Axes>"
      ]
     },
     "metadata": {},
     "output_type": "display_data"
    }
   ],
   "source": [
    "sns.kdeplot(y_test, label='Actual Sales', shade=True)\n",
    "sns.kdeplot(y_pred, label='Predicted Sales', shade=True)\n",
    "\n",
    "plt.xlabel('Sales', size=12)\n",
    "plt.ylabel('Density', size=12)\n",
    "plt.title('Actual vs. Predicted Sales Distribution', size=16, fontweight=\"bold\")\n",
    "plt.legend()\n",
    "plt.show()\n"
   ]
  },
  {
   "cell_type": "code",
   "execution_count": null,
   "id": "84ab8336",
   "metadata": {},
   "outputs": [],
   "source": []
  }
 ],
 "metadata": {
  "kernelspec": {
   "display_name": "Python 3 (ipykernel)",
   "language": "python",
   "name": "python3"
  },
  "language_info": {
   "codemirror_mode": {
    "name": "ipython",
    "version": 3
   },
   "file_extension": ".py",
   "mimetype": "text/x-python",
   "name": "python",
   "nbconvert_exporter": "python",
   "pygments_lexer": "ipython3",
   "version": "3.9.13"
  }
 },
 "nbformat": 4,
 "nbformat_minor": 5
}
